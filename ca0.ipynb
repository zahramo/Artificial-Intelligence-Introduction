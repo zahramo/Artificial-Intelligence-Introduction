{
 "cells": [
  {
   "cell_type": "markdown",
   "metadata": {},
   "source": [
    "# Computer Assignment 0, Introduction to Artificial Intelligence"
   ]
  },
  {
   "cell_type": "markdown",
   "metadata": {},
   "source": [
    "#### The purpose of this project is to fill in the gaps of a database by predicting them with the help of statistical analysis  "
   ]
  },
  {
   "cell_type": "markdown",
   "metadata": {},
   "source": [
    "In this project, we are given data on how different users react to an online ad. There is no data on whether the user has clicked on the ad for some users and we need to predict their behavior by analyzing data obtained from other users' choices. "
   ]
  },
  {
   "cell_type": "markdown",
   "metadata": {},
   "source": [
    "## Part 1"
   ]
  },
  {
   "cell_type": "markdown",
   "metadata": {},
   "source": [
    "The data used in this section contains information about 1000 users of a site who came across an Internet ad. Each line of this file contains a record of a user that contains this information: daily time spent by the user on the site, user age, average user area revenue, user's daily internet usage, ad subject, user's city of residence, user gender, user's country of residence, when the record was recorded and whether the user Ad clicked or not. "
   ]
  },
  {
   "cell_type": "code",
   "execution_count": 166,
   "metadata": {},
   "outputs": [
    {
     "data": {
      "text/html": [
       "<div>\n",
       "<style scoped>\n",
       "    .dataframe tbody tr th:only-of-type {\n",
       "        vertical-align: middle;\n",
       "    }\n",
       "\n",
       "    .dataframe tbody tr th {\n",
       "        vertical-align: top;\n",
       "    }\n",
       "\n",
       "    .dataframe thead th {\n",
       "        text-align: right;\n",
       "    }\n",
       "</style>\n",
       "<table border=\"1\" class=\"dataframe\">\n",
       "  <thead>\n",
       "    <tr style=\"text-align: right;\">\n",
       "      <th></th>\n",
       "      <th>Unnamed: 0</th>\n",
       "      <th>Daily Time Spent on Site</th>\n",
       "      <th>Age</th>\n",
       "      <th>Area Income</th>\n",
       "      <th>Daily Internet Usage</th>\n",
       "      <th>Ad Topic Line</th>\n",
       "      <th>City</th>\n",
       "      <th>Gender</th>\n",
       "      <th>Country</th>\n",
       "      <th>Timestamp</th>\n",
       "      <th>Clicked on Ad</th>\n",
       "    </tr>\n",
       "  </thead>\n",
       "  <tbody>\n",
       "    <tr>\n",
       "      <th>0</th>\n",
       "      <td>0</td>\n",
       "      <td>68.95</td>\n",
       "      <td>35.0</td>\n",
       "      <td>61833.90</td>\n",
       "      <td>256.09</td>\n",
       "      <td>Cloned 5thgeneration orchestration</td>\n",
       "      <td>Wrightburgh</td>\n",
       "      <td>Female</td>\n",
       "      <td>Tunisia</td>\n",
       "      <td>2016-03-27 00:53:11</td>\n",
       "      <td>0.0</td>\n",
       "    </tr>\n",
       "    <tr>\n",
       "      <th>1</th>\n",
       "      <td>1</td>\n",
       "      <td>80.23</td>\n",
       "      <td>31.0</td>\n",
       "      <td>68441.85</td>\n",
       "      <td>NaN</td>\n",
       "      <td>Monitored national standardization</td>\n",
       "      <td>West Jodi</td>\n",
       "      <td>Male</td>\n",
       "      <td>Nauru</td>\n",
       "      <td>2016-04-04 01:39:02</td>\n",
       "      <td>0.0</td>\n",
       "    </tr>\n",
       "    <tr>\n",
       "      <th>2</th>\n",
       "      <td>2</td>\n",
       "      <td>69.47</td>\n",
       "      <td>26.0</td>\n",
       "      <td>59785.94</td>\n",
       "      <td>236.50</td>\n",
       "      <td>Organic bottom-line service-desk</td>\n",
       "      <td>Davidton</td>\n",
       "      <td>Female</td>\n",
       "      <td>San Marino</td>\n",
       "      <td>2016-03-13 20:35:42</td>\n",
       "      <td>0.0</td>\n",
       "    </tr>\n",
       "    <tr>\n",
       "      <th>3</th>\n",
       "      <td>3</td>\n",
       "      <td>74.15</td>\n",
       "      <td>29.0</td>\n",
       "      <td>54806.18</td>\n",
       "      <td>245.89</td>\n",
       "      <td>Triple-buffered reciprocal time-frame</td>\n",
       "      <td>West Terrifurt</td>\n",
       "      <td>Male</td>\n",
       "      <td>Italy</td>\n",
       "      <td>2016-01-10 02:31:19</td>\n",
       "      <td>0.0</td>\n",
       "    </tr>\n",
       "    <tr>\n",
       "      <th>4</th>\n",
       "      <td>4</td>\n",
       "      <td>68.37</td>\n",
       "      <td>35.0</td>\n",
       "      <td>73889.99</td>\n",
       "      <td>225.58</td>\n",
       "      <td>Robust logistical utilization</td>\n",
       "      <td>South Manuel</td>\n",
       "      <td>Female</td>\n",
       "      <td>Iceland</td>\n",
       "      <td>2016-06-03 03:36:18</td>\n",
       "      <td>0.0</td>\n",
       "    </tr>\n",
       "    <tr>\n",
       "      <th>...</th>\n",
       "      <td>...</td>\n",
       "      <td>...</td>\n",
       "      <td>...</td>\n",
       "      <td>...</td>\n",
       "      <td>...</td>\n",
       "      <td>...</td>\n",
       "      <td>...</td>\n",
       "      <td>...</td>\n",
       "      <td>...</td>\n",
       "      <td>...</td>\n",
       "      <td>...</td>\n",
       "    </tr>\n",
       "    <tr>\n",
       "      <th>995</th>\n",
       "      <td>995</td>\n",
       "      <td>72.97</td>\n",
       "      <td>30.0</td>\n",
       "      <td>71384.57</td>\n",
       "      <td>208.58</td>\n",
       "      <td>Fundamental modular algorithm</td>\n",
       "      <td>Duffystad</td>\n",
       "      <td>Male</td>\n",
       "      <td>Lebanon</td>\n",
       "      <td>2016-02-11 21:49:00</td>\n",
       "      <td>1.0</td>\n",
       "    </tr>\n",
       "    <tr>\n",
       "      <th>996</th>\n",
       "      <td>996</td>\n",
       "      <td>51.30</td>\n",
       "      <td>45.0</td>\n",
       "      <td>67782.17</td>\n",
       "      <td>134.42</td>\n",
       "      <td>Grass-roots cohesive monitoring</td>\n",
       "      <td>New Darlene</td>\n",
       "      <td>Male</td>\n",
       "      <td>Bosnia and Herzegovina</td>\n",
       "      <td>2016-04-22 02:07:01</td>\n",
       "      <td>1.0</td>\n",
       "    </tr>\n",
       "    <tr>\n",
       "      <th>997</th>\n",
       "      <td>997</td>\n",
       "      <td>51.63</td>\n",
       "      <td>51.0</td>\n",
       "      <td>42415.72</td>\n",
       "      <td>120.37</td>\n",
       "      <td>Expanded intangible solution</td>\n",
       "      <td>South Jessica</td>\n",
       "      <td>Male</td>\n",
       "      <td>Mongolia</td>\n",
       "      <td>2016-02-01 17:24:57</td>\n",
       "      <td>1.0</td>\n",
       "    </tr>\n",
       "    <tr>\n",
       "      <th>998</th>\n",
       "      <td>998</td>\n",
       "      <td>55.55</td>\n",
       "      <td>19.0</td>\n",
       "      <td>41920.79</td>\n",
       "      <td>187.95</td>\n",
       "      <td>Proactive bandwidth-monitored policy</td>\n",
       "      <td>West Steven</td>\n",
       "      <td>Female</td>\n",
       "      <td>Guatemala</td>\n",
       "      <td>2016-03-24 02:35:54</td>\n",
       "      <td>0.0</td>\n",
       "    </tr>\n",
       "    <tr>\n",
       "      <th>999</th>\n",
       "      <td>999</td>\n",
       "      <td>NaN</td>\n",
       "      <td>26.0</td>\n",
       "      <td>29875.80</td>\n",
       "      <td>178.35</td>\n",
       "      <td>Virtual 5thgeneration emulation</td>\n",
       "      <td>Ronniemouth</td>\n",
       "      <td>Female</td>\n",
       "      <td>Brazil</td>\n",
       "      <td>2016-06-03 21:43:21</td>\n",
       "      <td>1.0</td>\n",
       "    </tr>\n",
       "  </tbody>\n",
       "</table>\n",
       "<p>1000 rows × 11 columns</p>\n",
       "</div>"
      ],
      "text/plain": [
       "     Unnamed: 0  Daily Time Spent on Site   Age  Area Income  \\\n",
       "0             0                     68.95  35.0     61833.90   \n",
       "1             1                     80.23  31.0     68441.85   \n",
       "2             2                     69.47  26.0     59785.94   \n",
       "3             3                     74.15  29.0     54806.18   \n",
       "4             4                     68.37  35.0     73889.99   \n",
       "..          ...                       ...   ...          ...   \n",
       "995         995                     72.97  30.0     71384.57   \n",
       "996         996                     51.30  45.0     67782.17   \n",
       "997         997                     51.63  51.0     42415.72   \n",
       "998         998                     55.55  19.0     41920.79   \n",
       "999         999                       NaN  26.0     29875.80   \n",
       "\n",
       "     Daily Internet Usage                          Ad Topic Line  \\\n",
       "0                  256.09     Cloned 5thgeneration orchestration   \n",
       "1                     NaN     Monitored national standardization   \n",
       "2                  236.50       Organic bottom-line service-desk   \n",
       "3                  245.89  Triple-buffered reciprocal time-frame   \n",
       "4                  225.58          Robust logistical utilization   \n",
       "..                    ...                                    ...   \n",
       "995                208.58          Fundamental modular algorithm   \n",
       "996                134.42        Grass-roots cohesive monitoring   \n",
       "997                120.37           Expanded intangible solution   \n",
       "998                187.95   Proactive bandwidth-monitored policy   \n",
       "999                178.35        Virtual 5thgeneration emulation   \n",
       "\n",
       "               City  Gender                 Country            Timestamp  \\\n",
       "0       Wrightburgh  Female                 Tunisia  2016-03-27 00:53:11   \n",
       "1         West Jodi    Male                   Nauru  2016-04-04 01:39:02   \n",
       "2          Davidton  Female              San Marino  2016-03-13 20:35:42   \n",
       "3    West Terrifurt    Male                   Italy  2016-01-10 02:31:19   \n",
       "4      South Manuel  Female                 Iceland  2016-06-03 03:36:18   \n",
       "..              ...     ...                     ...                  ...   \n",
       "995       Duffystad    Male                 Lebanon  2016-02-11 21:49:00   \n",
       "996     New Darlene    Male  Bosnia and Herzegovina  2016-04-22 02:07:01   \n",
       "997   South Jessica    Male                Mongolia  2016-02-01 17:24:57   \n",
       "998     West Steven  Female               Guatemala  2016-03-24 02:35:54   \n",
       "999     Ronniemouth  Female                  Brazil  2016-06-03 21:43:21   \n",
       "\n",
       "     Clicked on Ad  \n",
       "0              0.0  \n",
       "1              0.0  \n",
       "2              0.0  \n",
       "3              0.0  \n",
       "4              0.0  \n",
       "..             ...  \n",
       "995            1.0  \n",
       "996            1.0  \n",
       "997            1.0  \n",
       "998            0.0  \n",
       "999            1.0  \n",
       "\n",
       "[1000 rows x 11 columns]"
      ]
     },
     "execution_count": 166,
     "metadata": {},
     "output_type": "execute_result"
    }
   ],
   "source": [
    "import pandas as pd\n",
    "input_data = pd.read_csv(\"advertising_dataset.csv\")\n",
    "input_data"
   ]
  },
  {
   "cell_type": "markdown",
   "metadata": {},
   "source": [
    "The tail function is used here.\n",
    "This function shows us the last n rows of data. The value of the number n is 5 by default."
   ]
  },
  {
   "cell_type": "code",
   "execution_count": 170,
   "metadata": {},
   "outputs": [
    {
     "data": {
      "text/html": [
       "<div>\n",
       "<style scoped>\n",
       "    .dataframe tbody tr th:only-of-type {\n",
       "        vertical-align: middle;\n",
       "    }\n",
       "\n",
       "    .dataframe tbody tr th {\n",
       "        vertical-align: top;\n",
       "    }\n",
       "\n",
       "    .dataframe thead th {\n",
       "        text-align: right;\n",
       "    }\n",
       "</style>\n",
       "<table border=\"1\" class=\"dataframe\">\n",
       "  <thead>\n",
       "    <tr style=\"text-align: right;\">\n",
       "      <th></th>\n",
       "      <th>Unnamed: 0</th>\n",
       "      <th>Daily Time Spent on Site</th>\n",
       "      <th>Age</th>\n",
       "      <th>Area Income</th>\n",
       "      <th>Daily Internet Usage</th>\n",
       "      <th>Ad Topic Line</th>\n",
       "      <th>City</th>\n",
       "      <th>Gender</th>\n",
       "      <th>Country</th>\n",
       "      <th>Timestamp</th>\n",
       "      <th>Clicked on Ad</th>\n",
       "    </tr>\n",
       "  </thead>\n",
       "  <tbody>\n",
       "    <tr>\n",
       "      <th>993</th>\n",
       "      <td>993</td>\n",
       "      <td>64.20</td>\n",
       "      <td>27.0</td>\n",
       "      <td>66200.96</td>\n",
       "      <td>227.63</td>\n",
       "      <td>Phased zero tolerance extranet</td>\n",
       "      <td>Edwardsmouth</td>\n",
       "      <td>Male</td>\n",
       "      <td>Isle of Man</td>\n",
       "      <td>2016-02-11 23:45:01</td>\n",
       "      <td>0.0</td>\n",
       "    </tr>\n",
       "    <tr>\n",
       "      <th>994</th>\n",
       "      <td>994</td>\n",
       "      <td>43.70</td>\n",
       "      <td>28.0</td>\n",
       "      <td>63126.96</td>\n",
       "      <td>173.01</td>\n",
       "      <td>Front-line bifurcated ability</td>\n",
       "      <td>Nicholasland</td>\n",
       "      <td>Female</td>\n",
       "      <td>Mayotte</td>\n",
       "      <td>2016-04-04 03:57:48</td>\n",
       "      <td>1.0</td>\n",
       "    </tr>\n",
       "    <tr>\n",
       "      <th>995</th>\n",
       "      <td>995</td>\n",
       "      <td>72.97</td>\n",
       "      <td>30.0</td>\n",
       "      <td>71384.57</td>\n",
       "      <td>208.58</td>\n",
       "      <td>Fundamental modular algorithm</td>\n",
       "      <td>Duffystad</td>\n",
       "      <td>Male</td>\n",
       "      <td>Lebanon</td>\n",
       "      <td>2016-02-11 21:49:00</td>\n",
       "      <td>1.0</td>\n",
       "    </tr>\n",
       "    <tr>\n",
       "      <th>996</th>\n",
       "      <td>996</td>\n",
       "      <td>51.30</td>\n",
       "      <td>45.0</td>\n",
       "      <td>67782.17</td>\n",
       "      <td>134.42</td>\n",
       "      <td>Grass-roots cohesive monitoring</td>\n",
       "      <td>New Darlene</td>\n",
       "      <td>Male</td>\n",
       "      <td>Bosnia and Herzegovina</td>\n",
       "      <td>2016-04-22 02:07:01</td>\n",
       "      <td>1.0</td>\n",
       "    </tr>\n",
       "    <tr>\n",
       "      <th>997</th>\n",
       "      <td>997</td>\n",
       "      <td>51.63</td>\n",
       "      <td>51.0</td>\n",
       "      <td>42415.72</td>\n",
       "      <td>120.37</td>\n",
       "      <td>Expanded intangible solution</td>\n",
       "      <td>South Jessica</td>\n",
       "      <td>Male</td>\n",
       "      <td>Mongolia</td>\n",
       "      <td>2016-02-01 17:24:57</td>\n",
       "      <td>1.0</td>\n",
       "    </tr>\n",
       "    <tr>\n",
       "      <th>998</th>\n",
       "      <td>998</td>\n",
       "      <td>55.55</td>\n",
       "      <td>19.0</td>\n",
       "      <td>41920.79</td>\n",
       "      <td>187.95</td>\n",
       "      <td>Proactive bandwidth-monitored policy</td>\n",
       "      <td>West Steven</td>\n",
       "      <td>Female</td>\n",
       "      <td>Guatemala</td>\n",
       "      <td>2016-03-24 02:35:54</td>\n",
       "      <td>0.0</td>\n",
       "    </tr>\n",
       "    <tr>\n",
       "      <th>999</th>\n",
       "      <td>999</td>\n",
       "      <td>NaN</td>\n",
       "      <td>26.0</td>\n",
       "      <td>29875.80</td>\n",
       "      <td>178.35</td>\n",
       "      <td>Virtual 5thgeneration emulation</td>\n",
       "      <td>Ronniemouth</td>\n",
       "      <td>Female</td>\n",
       "      <td>Brazil</td>\n",
       "      <td>2016-06-03 21:43:21</td>\n",
       "      <td>1.0</td>\n",
       "    </tr>\n",
       "  </tbody>\n",
       "</table>\n",
       "</div>"
      ],
      "text/plain": [
       "     Unnamed: 0  Daily Time Spent on Site   Age  Area Income  \\\n",
       "993         993                     64.20  27.0     66200.96   \n",
       "994         994                     43.70  28.0     63126.96   \n",
       "995         995                     72.97  30.0     71384.57   \n",
       "996         996                     51.30  45.0     67782.17   \n",
       "997         997                     51.63  51.0     42415.72   \n",
       "998         998                     55.55  19.0     41920.79   \n",
       "999         999                       NaN  26.0     29875.80   \n",
       "\n",
       "     Daily Internet Usage                         Ad Topic Line  \\\n",
       "993                227.63        Phased zero tolerance extranet   \n",
       "994                173.01         Front-line bifurcated ability   \n",
       "995                208.58         Fundamental modular algorithm   \n",
       "996                134.42       Grass-roots cohesive monitoring   \n",
       "997                120.37          Expanded intangible solution   \n",
       "998                187.95  Proactive bandwidth-monitored policy   \n",
       "999                178.35       Virtual 5thgeneration emulation   \n",
       "\n",
       "              City  Gender                 Country            Timestamp  \\\n",
       "993   Edwardsmouth    Male             Isle of Man  2016-02-11 23:45:01   \n",
       "994   Nicholasland  Female                 Mayotte  2016-04-04 03:57:48   \n",
       "995      Duffystad    Male                 Lebanon  2016-02-11 21:49:00   \n",
       "996    New Darlene    Male  Bosnia and Herzegovina  2016-04-22 02:07:01   \n",
       "997  South Jessica    Male                Mongolia  2016-02-01 17:24:57   \n",
       "998    West Steven  Female               Guatemala  2016-03-24 02:35:54   \n",
       "999    Ronniemouth  Female                  Brazil  2016-06-03 21:43:21   \n",
       "\n",
       "     Clicked on Ad  \n",
       "993            0.0  \n",
       "994            1.0  \n",
       "995            1.0  \n",
       "996            1.0  \n",
       "997            1.0  \n",
       "998            0.0  \n",
       "999            1.0  "
      ]
     },
     "execution_count": 170,
     "metadata": {},
     "output_type": "execute_result"
    }
   ],
   "source": [
    "input_data.tail(7)"
   ]
  },
  {
   "cell_type": "markdown",
   "metadata": {},
   "source": [
    "The head function is used here.\n",
    "This function shows us the first n rows of data. The value of the number n is 5 by default."
   ]
  },
  {
   "cell_type": "code",
   "execution_count": 171,
   "metadata": {},
   "outputs": [
    {
     "data": {
      "text/html": [
       "<div>\n",
       "<style scoped>\n",
       "    .dataframe tbody tr th:only-of-type {\n",
       "        vertical-align: middle;\n",
       "    }\n",
       "\n",
       "    .dataframe tbody tr th {\n",
       "        vertical-align: top;\n",
       "    }\n",
       "\n",
       "    .dataframe thead th {\n",
       "        text-align: right;\n",
       "    }\n",
       "</style>\n",
       "<table border=\"1\" class=\"dataframe\">\n",
       "  <thead>\n",
       "    <tr style=\"text-align: right;\">\n",
       "      <th></th>\n",
       "      <th>Unnamed: 0</th>\n",
       "      <th>Daily Time Spent on Site</th>\n",
       "      <th>Age</th>\n",
       "      <th>Area Income</th>\n",
       "      <th>Daily Internet Usage</th>\n",
       "      <th>Ad Topic Line</th>\n",
       "      <th>City</th>\n",
       "      <th>Gender</th>\n",
       "      <th>Country</th>\n",
       "      <th>Timestamp</th>\n",
       "      <th>Clicked on Ad</th>\n",
       "    </tr>\n",
       "  </thead>\n",
       "  <tbody>\n",
       "    <tr>\n",
       "      <th>0</th>\n",
       "      <td>0</td>\n",
       "      <td>68.95</td>\n",
       "      <td>35.0</td>\n",
       "      <td>61833.90</td>\n",
       "      <td>256.09</td>\n",
       "      <td>Cloned 5thgeneration orchestration</td>\n",
       "      <td>Wrightburgh</td>\n",
       "      <td>Female</td>\n",
       "      <td>Tunisia</td>\n",
       "      <td>2016-03-27 00:53:11</td>\n",
       "      <td>0.0</td>\n",
       "    </tr>\n",
       "    <tr>\n",
       "      <th>1</th>\n",
       "      <td>1</td>\n",
       "      <td>80.23</td>\n",
       "      <td>31.0</td>\n",
       "      <td>68441.85</td>\n",
       "      <td>NaN</td>\n",
       "      <td>Monitored national standardization</td>\n",
       "      <td>West Jodi</td>\n",
       "      <td>Male</td>\n",
       "      <td>Nauru</td>\n",
       "      <td>2016-04-04 01:39:02</td>\n",
       "      <td>0.0</td>\n",
       "    </tr>\n",
       "    <tr>\n",
       "      <th>2</th>\n",
       "      <td>2</td>\n",
       "      <td>69.47</td>\n",
       "      <td>26.0</td>\n",
       "      <td>59785.94</td>\n",
       "      <td>236.50</td>\n",
       "      <td>Organic bottom-line service-desk</td>\n",
       "      <td>Davidton</td>\n",
       "      <td>Female</td>\n",
       "      <td>San Marino</td>\n",
       "      <td>2016-03-13 20:35:42</td>\n",
       "      <td>0.0</td>\n",
       "    </tr>\n",
       "    <tr>\n",
       "      <th>3</th>\n",
       "      <td>3</td>\n",
       "      <td>74.15</td>\n",
       "      <td>29.0</td>\n",
       "      <td>54806.18</td>\n",
       "      <td>245.89</td>\n",
       "      <td>Triple-buffered reciprocal time-frame</td>\n",
       "      <td>West Terrifurt</td>\n",
       "      <td>Male</td>\n",
       "      <td>Italy</td>\n",
       "      <td>2016-01-10 02:31:19</td>\n",
       "      <td>0.0</td>\n",
       "    </tr>\n",
       "    <tr>\n",
       "      <th>4</th>\n",
       "      <td>4</td>\n",
       "      <td>68.37</td>\n",
       "      <td>35.0</td>\n",
       "      <td>73889.99</td>\n",
       "      <td>225.58</td>\n",
       "      <td>Robust logistical utilization</td>\n",
       "      <td>South Manuel</td>\n",
       "      <td>Female</td>\n",
       "      <td>Iceland</td>\n",
       "      <td>2016-06-03 03:36:18</td>\n",
       "      <td>0.0</td>\n",
       "    </tr>\n",
       "  </tbody>\n",
       "</table>\n",
       "</div>"
      ],
      "text/plain": [
       "   Unnamed: 0  Daily Time Spent on Site   Age  Area Income  \\\n",
       "0           0                     68.95  35.0     61833.90   \n",
       "1           1                     80.23  31.0     68441.85   \n",
       "2           2                     69.47  26.0     59785.94   \n",
       "3           3                     74.15  29.0     54806.18   \n",
       "4           4                     68.37  35.0     73889.99   \n",
       "\n",
       "   Daily Internet Usage                          Ad Topic Line  \\\n",
       "0                256.09     Cloned 5thgeneration orchestration   \n",
       "1                   NaN     Monitored national standardization   \n",
       "2                236.50       Organic bottom-line service-desk   \n",
       "3                245.89  Triple-buffered reciprocal time-frame   \n",
       "4                225.58          Robust logistical utilization   \n",
       "\n",
       "             City  Gender     Country            Timestamp  Clicked on Ad  \n",
       "0     Wrightburgh  Female     Tunisia  2016-03-27 00:53:11            0.0  \n",
       "1       West Jodi    Male       Nauru  2016-04-04 01:39:02            0.0  \n",
       "2        Davidton  Female  San Marino  2016-03-13 20:35:42            0.0  \n",
       "3  West Terrifurt    Male       Italy  2016-01-10 02:31:19            0.0  \n",
       "4    South Manuel  Female     Iceland  2016-06-03 03:36:18            0.0  "
      ]
     },
     "execution_count": 171,
     "metadata": {},
     "output_type": "execute_result"
    }
   ],
   "source": [
    "input_data.head()"
   ]
  },
  {
   "cell_type": "markdown",
   "metadata": {},
   "source": [
    "The describe function is used here.\n",
    "This function shows us descriptive statistics that summarize the central tendency, dispersion and shape of a dataset’s distribution, excluding NaN values."
   ]
  },
  {
   "cell_type": "code",
   "execution_count": 172,
   "metadata": {},
   "outputs": [
    {
     "data": {
      "text/html": [
       "<div>\n",
       "<style scoped>\n",
       "    .dataframe tbody tr th:only-of-type {\n",
       "        vertical-align: middle;\n",
       "    }\n",
       "\n",
       "    .dataframe tbody tr th {\n",
       "        vertical-align: top;\n",
       "    }\n",
       "\n",
       "    .dataframe thead th {\n",
       "        text-align: right;\n",
       "    }\n",
       "</style>\n",
       "<table border=\"1\" class=\"dataframe\">\n",
       "  <thead>\n",
       "    <tr style=\"text-align: right;\">\n",
       "      <th></th>\n",
       "      <th>Unnamed: 0</th>\n",
       "      <th>Daily Time Spent on Site</th>\n",
       "      <th>Age</th>\n",
       "      <th>Area Income</th>\n",
       "      <th>Daily Internet Usage</th>\n",
       "      <th>Clicked on Ad</th>\n",
       "    </tr>\n",
       "  </thead>\n",
       "  <tbody>\n",
       "    <tr>\n",
       "      <th>count</th>\n",
       "      <td>1000.000000</td>\n",
       "      <td>907.000000</td>\n",
       "      <td>979.000000</td>\n",
       "      <td>1000.000000</td>\n",
       "      <td>913.000000</td>\n",
       "      <td>832.000000</td>\n",
       "    </tr>\n",
       "    <tr>\n",
       "      <th>mean</th>\n",
       "      <td>499.500000</td>\n",
       "      <td>64.794818</td>\n",
       "      <td>36.009193</td>\n",
       "      <td>55000.000080</td>\n",
       "      <td>179.751271</td>\n",
       "      <td>0.496394</td>\n",
       "    </tr>\n",
       "    <tr>\n",
       "      <th>std</th>\n",
       "      <td>288.819436</td>\n",
       "      <td>15.954841</td>\n",
       "      <td>8.783636</td>\n",
       "      <td>13414.634022</td>\n",
       "      <td>43.957934</td>\n",
       "      <td>0.500288</td>\n",
       "    </tr>\n",
       "    <tr>\n",
       "      <th>min</th>\n",
       "      <td>0.000000</td>\n",
       "      <td>32.600000</td>\n",
       "      <td>19.000000</td>\n",
       "      <td>13996.500000</td>\n",
       "      <td>104.780000</td>\n",
       "      <td>0.000000</td>\n",
       "    </tr>\n",
       "    <tr>\n",
       "      <th>25%</th>\n",
       "      <td>249.750000</td>\n",
       "      <td>50.615000</td>\n",
       "      <td>29.000000</td>\n",
       "      <td>47031.802500</td>\n",
       "      <td>138.550000</td>\n",
       "      <td>0.000000</td>\n",
       "    </tr>\n",
       "    <tr>\n",
       "      <th>50%</th>\n",
       "      <td>499.500000</td>\n",
       "      <td>67.940000</td>\n",
       "      <td>35.000000</td>\n",
       "      <td>57012.300000</td>\n",
       "      <td>183.480000</td>\n",
       "      <td>0.000000</td>\n",
       "    </tr>\n",
       "    <tr>\n",
       "      <th>75%</th>\n",
       "      <td>749.250000</td>\n",
       "      <td>78.555000</td>\n",
       "      <td>42.000000</td>\n",
       "      <td>65470.635000</td>\n",
       "      <td>217.850000</td>\n",
       "      <td>1.000000</td>\n",
       "    </tr>\n",
       "    <tr>\n",
       "      <th>max</th>\n",
       "      <td>999.000000</td>\n",
       "      <td>91.430000</td>\n",
       "      <td>61.000000</td>\n",
       "      <td>79484.800000</td>\n",
       "      <td>269.960000</td>\n",
       "      <td>1.000000</td>\n",
       "    </tr>\n",
       "  </tbody>\n",
       "</table>\n",
       "</div>"
      ],
      "text/plain": [
       "        Unnamed: 0  Daily Time Spent on Site         Age   Area Income  \\\n",
       "count  1000.000000                907.000000  979.000000   1000.000000   \n",
       "mean    499.500000                 64.794818   36.009193  55000.000080   \n",
       "std     288.819436                 15.954841    8.783636  13414.634022   \n",
       "min       0.000000                 32.600000   19.000000  13996.500000   \n",
       "25%     249.750000                 50.615000   29.000000  47031.802500   \n",
       "50%     499.500000                 67.940000   35.000000  57012.300000   \n",
       "75%     749.250000                 78.555000   42.000000  65470.635000   \n",
       "max     999.000000                 91.430000   61.000000  79484.800000   \n",
       "\n",
       "       Daily Internet Usage  Clicked on Ad  \n",
       "count            913.000000     832.000000  \n",
       "mean             179.751271       0.496394  \n",
       "std               43.957934       0.500288  \n",
       "min              104.780000       0.000000  \n",
       "25%              138.550000       0.000000  \n",
       "50%              183.480000       0.000000  \n",
       "75%              217.850000       1.000000  \n",
       "max              269.960000       1.000000  "
      ]
     },
     "execution_count": 172,
     "metadata": {},
     "output_type": "execute_result"
    }
   ],
   "source": [
    "input_data.describe()"
   ]
  },
  {
   "cell_type": "markdown",
   "metadata": {},
   "source": [
    "For example, here numerical data is described in terms of number, average, minimum and maximum value, stansard devision and percentilies."
   ]
  },
  {
   "cell_type": "markdown",
   "metadata": {},
   "source": [
    "## Part 2"
   ]
  },
  {
   "cell_type": "markdown",
   "metadata": {},
   "source": [
    "The info function is used here.\n",
    "This function shows us count of non null fields and data type of each columns."
   ]
  },
  {
   "cell_type": "code",
   "execution_count": 57,
   "metadata": {},
   "outputs": [
    {
     "name": "stdout",
     "output_type": "stream",
     "text": [
      "<class 'pandas.core.frame.DataFrame'>\n",
      "RangeIndex: 1000 entries, 0 to 999\n",
      "Data columns (total 11 columns):\n",
      " #   Column                    Non-Null Count  Dtype  \n",
      "---  ------                    --------------  -----  \n",
      " 0   Unnamed: 0                1000 non-null   int64  \n",
      " 1   Daily Time Spent on Site  907 non-null    float64\n",
      " 2   Age                       979 non-null    float64\n",
      " 3   Area Income               1000 non-null   float64\n",
      " 4   Daily Internet Usage      913 non-null    float64\n",
      " 5   Ad Topic Line             1000 non-null   object \n",
      " 6   City                      1000 non-null   object \n",
      " 7   Gender                    1000 non-null   object \n",
      " 8   Country                   1000 non-null   object \n",
      " 9   Timestamp                 1000 non-null   object \n",
      " 10  Clicked on Ad             832 non-null    float64\n",
      "dtypes: float64(5), int64(1), object(5)\n",
      "memory usage: 86.1+ KB\n"
     ]
    }
   ],
   "source": [
    "input_data.info()"
   ]
  },
  {
   "cell_type": "code",
   "execution_count": 173,
   "metadata": {},
   "outputs": [
    {
     "data": {
      "text/html": [
       "<div>\n",
       "<style scoped>\n",
       "    .dataframe tbody tr th:only-of-type {\n",
       "        vertical-align: middle;\n",
       "    }\n",
       "\n",
       "    .dataframe tbody tr th {\n",
       "        vertical-align: top;\n",
       "    }\n",
       "\n",
       "    .dataframe thead th {\n",
       "        text-align: right;\n",
       "    }\n",
       "</style>\n",
       "<table border=\"1\" class=\"dataframe\">\n",
       "  <thead>\n",
       "    <tr style=\"text-align: right;\">\n",
       "      <th></th>\n",
       "      <th>Unnamed: 0</th>\n",
       "      <th>Daily Time Spent on Site</th>\n",
       "      <th>Age</th>\n",
       "      <th>Area Income</th>\n",
       "      <th>Daily Internet Usage</th>\n",
       "      <th>Ad Topic Line</th>\n",
       "      <th>City</th>\n",
       "      <th>Gender</th>\n",
       "      <th>Country</th>\n",
       "      <th>Timestamp</th>\n",
       "      <th>Clicked on Ad</th>\n",
       "    </tr>\n",
       "  </thead>\n",
       "  <tbody>\n",
       "    <tr>\n",
       "      <th>0</th>\n",
       "      <td>0</td>\n",
       "      <td>68.95</td>\n",
       "      <td>35.0</td>\n",
       "      <td>61833.90</td>\n",
       "      <td>256.09</td>\n",
       "      <td>Cloned 5thgeneration orchestration</td>\n",
       "      <td>Wrightburgh</td>\n",
       "      <td>0</td>\n",
       "      <td>Tunisia</td>\n",
       "      <td>2016-03-27 00:53:11</td>\n",
       "      <td>0.0</td>\n",
       "    </tr>\n",
       "    <tr>\n",
       "      <th>1</th>\n",
       "      <td>1</td>\n",
       "      <td>80.23</td>\n",
       "      <td>31.0</td>\n",
       "      <td>68441.85</td>\n",
       "      <td>NaN</td>\n",
       "      <td>Monitored national standardization</td>\n",
       "      <td>West Jodi</td>\n",
       "      <td>1</td>\n",
       "      <td>Nauru</td>\n",
       "      <td>2016-04-04 01:39:02</td>\n",
       "      <td>0.0</td>\n",
       "    </tr>\n",
       "    <tr>\n",
       "      <th>2</th>\n",
       "      <td>2</td>\n",
       "      <td>69.47</td>\n",
       "      <td>26.0</td>\n",
       "      <td>59785.94</td>\n",
       "      <td>236.50</td>\n",
       "      <td>Organic bottom-line service-desk</td>\n",
       "      <td>Davidton</td>\n",
       "      <td>0</td>\n",
       "      <td>San Marino</td>\n",
       "      <td>2016-03-13 20:35:42</td>\n",
       "      <td>0.0</td>\n",
       "    </tr>\n",
       "    <tr>\n",
       "      <th>3</th>\n",
       "      <td>3</td>\n",
       "      <td>74.15</td>\n",
       "      <td>29.0</td>\n",
       "      <td>54806.18</td>\n",
       "      <td>245.89</td>\n",
       "      <td>Triple-buffered reciprocal time-frame</td>\n",
       "      <td>West Terrifurt</td>\n",
       "      <td>1</td>\n",
       "      <td>Italy</td>\n",
       "      <td>2016-01-10 02:31:19</td>\n",
       "      <td>0.0</td>\n",
       "    </tr>\n",
       "    <tr>\n",
       "      <th>4</th>\n",
       "      <td>4</td>\n",
       "      <td>68.37</td>\n",
       "      <td>35.0</td>\n",
       "      <td>73889.99</td>\n",
       "      <td>225.58</td>\n",
       "      <td>Robust logistical utilization</td>\n",
       "      <td>South Manuel</td>\n",
       "      <td>0</td>\n",
       "      <td>Iceland</td>\n",
       "      <td>2016-06-03 03:36:18</td>\n",
       "      <td>0.0</td>\n",
       "    </tr>\n",
       "    <tr>\n",
       "      <th>...</th>\n",
       "      <td>...</td>\n",
       "      <td>...</td>\n",
       "      <td>...</td>\n",
       "      <td>...</td>\n",
       "      <td>...</td>\n",
       "      <td>...</td>\n",
       "      <td>...</td>\n",
       "      <td>...</td>\n",
       "      <td>...</td>\n",
       "      <td>...</td>\n",
       "      <td>...</td>\n",
       "    </tr>\n",
       "    <tr>\n",
       "      <th>995</th>\n",
       "      <td>995</td>\n",
       "      <td>72.97</td>\n",
       "      <td>30.0</td>\n",
       "      <td>71384.57</td>\n",
       "      <td>208.58</td>\n",
       "      <td>Fundamental modular algorithm</td>\n",
       "      <td>Duffystad</td>\n",
       "      <td>1</td>\n",
       "      <td>Lebanon</td>\n",
       "      <td>2016-02-11 21:49:00</td>\n",
       "      <td>1.0</td>\n",
       "    </tr>\n",
       "    <tr>\n",
       "      <th>996</th>\n",
       "      <td>996</td>\n",
       "      <td>51.30</td>\n",
       "      <td>45.0</td>\n",
       "      <td>67782.17</td>\n",
       "      <td>134.42</td>\n",
       "      <td>Grass-roots cohesive monitoring</td>\n",
       "      <td>New Darlene</td>\n",
       "      <td>1</td>\n",
       "      <td>Bosnia and Herzegovina</td>\n",
       "      <td>2016-04-22 02:07:01</td>\n",
       "      <td>1.0</td>\n",
       "    </tr>\n",
       "    <tr>\n",
       "      <th>997</th>\n",
       "      <td>997</td>\n",
       "      <td>51.63</td>\n",
       "      <td>51.0</td>\n",
       "      <td>42415.72</td>\n",
       "      <td>120.37</td>\n",
       "      <td>Expanded intangible solution</td>\n",
       "      <td>South Jessica</td>\n",
       "      <td>1</td>\n",
       "      <td>Mongolia</td>\n",
       "      <td>2016-02-01 17:24:57</td>\n",
       "      <td>1.0</td>\n",
       "    </tr>\n",
       "    <tr>\n",
       "      <th>998</th>\n",
       "      <td>998</td>\n",
       "      <td>55.55</td>\n",
       "      <td>19.0</td>\n",
       "      <td>41920.79</td>\n",
       "      <td>187.95</td>\n",
       "      <td>Proactive bandwidth-monitored policy</td>\n",
       "      <td>West Steven</td>\n",
       "      <td>0</td>\n",
       "      <td>Guatemala</td>\n",
       "      <td>2016-03-24 02:35:54</td>\n",
       "      <td>0.0</td>\n",
       "    </tr>\n",
       "    <tr>\n",
       "      <th>999</th>\n",
       "      <td>999</td>\n",
       "      <td>NaN</td>\n",
       "      <td>26.0</td>\n",
       "      <td>29875.80</td>\n",
       "      <td>178.35</td>\n",
       "      <td>Virtual 5thgeneration emulation</td>\n",
       "      <td>Ronniemouth</td>\n",
       "      <td>0</td>\n",
       "      <td>Brazil</td>\n",
       "      <td>2016-06-03 21:43:21</td>\n",
       "      <td>1.0</td>\n",
       "    </tr>\n",
       "  </tbody>\n",
       "</table>\n",
       "<p>1000 rows × 11 columns</p>\n",
       "</div>"
      ],
      "text/plain": [
       "     Unnamed: 0  Daily Time Spent on Site   Age  Area Income  \\\n",
       "0             0                     68.95  35.0     61833.90   \n",
       "1             1                     80.23  31.0     68441.85   \n",
       "2             2                     69.47  26.0     59785.94   \n",
       "3             3                     74.15  29.0     54806.18   \n",
       "4             4                     68.37  35.0     73889.99   \n",
       "..          ...                       ...   ...          ...   \n",
       "995         995                     72.97  30.0     71384.57   \n",
       "996         996                     51.30  45.0     67782.17   \n",
       "997         997                     51.63  51.0     42415.72   \n",
       "998         998                     55.55  19.0     41920.79   \n",
       "999         999                       NaN  26.0     29875.80   \n",
       "\n",
       "     Daily Internet Usage                          Ad Topic Line  \\\n",
       "0                  256.09     Cloned 5thgeneration orchestration   \n",
       "1                     NaN     Monitored national standardization   \n",
       "2                  236.50       Organic bottom-line service-desk   \n",
       "3                  245.89  Triple-buffered reciprocal time-frame   \n",
       "4                  225.58          Robust logistical utilization   \n",
       "..                    ...                                    ...   \n",
       "995                208.58          Fundamental modular algorithm   \n",
       "996                134.42        Grass-roots cohesive monitoring   \n",
       "997                120.37           Expanded intangible solution   \n",
       "998                187.95   Proactive bandwidth-monitored policy   \n",
       "999                178.35        Virtual 5thgeneration emulation   \n",
       "\n",
       "               City  Gender                 Country            Timestamp  \\\n",
       "0       Wrightburgh       0                 Tunisia  2016-03-27 00:53:11   \n",
       "1         West Jodi       1                   Nauru  2016-04-04 01:39:02   \n",
       "2          Davidton       0              San Marino  2016-03-13 20:35:42   \n",
       "3    West Terrifurt       1                   Italy  2016-01-10 02:31:19   \n",
       "4      South Manuel       0                 Iceland  2016-06-03 03:36:18   \n",
       "..              ...     ...                     ...                  ...   \n",
       "995       Duffystad       1                 Lebanon  2016-02-11 21:49:00   \n",
       "996     New Darlene       1  Bosnia and Herzegovina  2016-04-22 02:07:01   \n",
       "997   South Jessica       1                Mongolia  2016-02-01 17:24:57   \n",
       "998     West Steven       0               Guatemala  2016-03-24 02:35:54   \n",
       "999     Ronniemouth       0                  Brazil  2016-06-03 21:43:21   \n",
       "\n",
       "     Clicked on Ad  \n",
       "0              0.0  \n",
       "1              0.0  \n",
       "2              0.0  \n",
       "3              0.0  \n",
       "4              0.0  \n",
       "..             ...  \n",
       "995            1.0  \n",
       "996            1.0  \n",
       "997            1.0  \n",
       "998            0.0  \n",
       "999            1.0  \n",
       "\n",
       "[1000 rows x 11 columns]"
      ]
     },
     "execution_count": 173,
     "metadata": {},
     "output_type": "execute_result"
    }
   ],
   "source": [
    "input_data['Gender'].replace({'Male': 1, 'Female': 0}, inplace=True)\n",
    "input_data"
   ]
  },
  {
   "cell_type": "markdown",
   "metadata": {},
   "source": [
    "## Part 3"
   ]
  },
  {
   "cell_type": "markdown",
   "metadata": {},
   "source": [
    "Using the following functions, the number of missing data in each column is obtained."
   ]
  },
  {
   "cell_type": "code",
   "execution_count": 174,
   "metadata": {},
   "outputs": [
    {
     "data": {
      "text/plain": [
       "Unnamed: 0                    0\n",
       "Daily Time Spent on Site     93\n",
       "Age                          21\n",
       "Area Income                   0\n",
       "Daily Internet Usage         87\n",
       "Ad Topic Line                 0\n",
       "City                          0\n",
       "Gender                        0\n",
       "Country                       0\n",
       "Timestamp                     0\n",
       "Clicked on Ad               168\n",
       "dtype: int64"
      ]
     },
     "execution_count": 174,
     "metadata": {},
     "output_type": "execute_result"
    }
   ],
   "source": [
    "input_data.isnull().sum()"
   ]
  },
  {
   "cell_type": "markdown",
   "metadata": {},
   "source": [
    "At the bottom we filled in the missing data cells with the average of the data in the same column."
   ]
  },
  {
   "cell_type": "code",
   "execution_count": 175,
   "metadata": {},
   "outputs": [
    {
     "data": {
      "text/plain": [
       "Unnamed: 0                    0\n",
       "Daily Time Spent on Site      0\n",
       "Age                           0\n",
       "Area Income                   0\n",
       "Daily Internet Usage          0\n",
       "Ad Topic Line                 0\n",
       "City                          0\n",
       "Gender                        0\n",
       "Country                       0\n",
       "Timestamp                     0\n",
       "Clicked on Ad               168\n",
       "dtype: int64"
      ]
     },
     "execution_count": 175,
     "metadata": {},
     "output_type": "execute_result"
    }
   ],
   "source": [
    "input_data['Daily Time Spent on Site'].fillna(input_data['Daily Time Spent on Site'].mean(), inplace=True)\n",
    "input_data['Age'].fillna(input_data['Age'].mean(), inplace=True)\n",
    "input_data['Daily Internet Usage'].fillna(input_data['Daily Internet Usage'].mean(), inplace=True)\n",
    "\n",
    "input_data.isnull().sum()"
   ]
  },
  {
   "cell_type": "markdown",
   "metadata": {},
   "source": [
    "Another way is to fill in the blanks using the median, which is useful when the data has outliers because outliers affect mean of data a lot."
   ]
  },
  {
   "cell_type": "markdown",
   "metadata": {},
   "source": [
    "## Part 4"
   ]
  },
  {
   "cell_type": "code",
   "execution_count": 180,
   "metadata": {},
   "outputs": [
    {
     "name": "stdout",
     "output_type": "stream",
     "text": [
      "Number of females : \n",
      " 519 \n",
      "\n",
      "Number of males : \n",
      " 481\n"
     ]
    }
   ],
   "source": [
    "male_num = len(input_data[input_data['Gender'] == 1])\n",
    "female_num = len(input_data[input_data['Gender'] == 0])\n",
    "\n",
    "print(\"Number of females : \\n\", female_num, '\\n')\n",
    "print(\"Number of males : \\n\", male_num)"
   ]
  },
  {
   "cell_type": "code",
   "execution_count": 181,
   "metadata": {},
   "outputs": [
    {
     "name": "stdout",
     "output_type": "stream",
     "text": [
      "Number of people who clicked on the ad : \n",
      " 413 \n",
      "\n",
      "Number of people who did not click on the ad : \n",
      " 419\n"
     ]
    }
   ],
   "source": [
    "click_num = len(input_data[input_data['Clicked on Ad'] == 1])\n",
    "not_click_num = len(input_data[input_data['Clicked on Ad'] == 0])\n",
    "print(\"Number of people who clicked on the ad : \\n\", click_num, '\\n')\n",
    "print(\"Number of people who did not click on the ad : \\n\", not_click_num)"
   ]
  },
  {
   "cell_type": "markdown",
   "metadata": {},
   "source": [
    "## Part 5"
   ]
  },
  {
   "cell_type": "code",
   "execution_count": 184,
   "metadata": {},
   "outputs": [
    {
     "name": "stdout",
     "output_type": "stream",
     "text": [
      "Number of women over the age of 21 : \n",
      " 514\n"
     ]
    }
   ],
   "source": [
    "selected_num = len(input_data[(input_data['Gender'] == 0) & (input_data['Age'] > 21)])\n",
    "print(\"Number of women over the age of 21 : \\n\", selected_num)"
   ]
  },
  {
   "cell_type": "markdown",
   "metadata": {},
   "source": [
    "## Part 6"
   ]
  },
  {
   "cell_type": "markdown",
   "metadata": {},
   "source": [
    "In this section, we first group the data according to the value of 'Clicked on Ad' column with groupby function and then we get the average age of each group."
   ]
  },
  {
   "cell_type": "code",
   "execution_count": 185,
   "metadata": {},
   "outputs": [
    {
     "name": "stdout",
     "output_type": "stream",
     "text": [
      "0.0018260478973388672\n",
      "Clicked on Ad\n",
      "0.0    31.723326\n",
      "1.0    40.295600\n",
      "Name: Age, dtype: float64\n"
     ]
    }
   ],
   "source": [
    "import time\n",
    "tic_vectorization = time.time()\n",
    "mean_data = input_data.groupby(['Clicked on Ad'])['Age'].mean()\n",
    "toc_vectorization = time.time()\n",
    "total_vectorization = toc_vectorization - tic_vectorization\n",
    "print(total_vectorization)\n",
    "print(mean_data)"
   ]
  },
  {
   "cell_type": "markdown",
   "metadata": {},
   "source": [
    "## Part 7"
   ]
  },
  {
   "cell_type": "code",
   "execution_count": 186,
   "metadata": {},
   "outputs": [
    {
     "name": "stdout",
     "output_type": "stream",
     "text": [
      "0.11760210990905762\n",
      "Clicked on Ad\n",
      "0.0\n",
      "31.723325881701896\n",
      "1.0\n",
      "40.295599848637366\n"
     ]
    }
   ],
   "source": [
    "tic_loop = time.time()\n",
    "click_count = 0\n",
    "click_age = 0\n",
    "not_click_count = 0\n",
    "not_click_age = 0\n",
    "\n",
    "for index, record in input_data.iterrows() :\n",
    "    if record['Clicked on Ad'] == 1:\n",
    "        click_count = click_count + 1\n",
    "        click_age = click_age + record['Age']\n",
    "    elif record['Clicked on Ad'] == 0:\n",
    "        not_click_count = not_click_count + 1\n",
    "        not_click_age = not_click_age + record['Age']\n",
    "\n",
    "toc_loop = time.time()\n",
    "total_loop = toc_loop - tic_loop\n",
    "print(total_loop)\n",
    "print('Clicked on Ad')\n",
    "print('0.0')\n",
    "print(not_click_age/not_click_count)\n",
    "print('1.0')\n",
    "print(click_age/click_count)"
   ]
  },
  {
   "cell_type": "markdown",
   "metadata": {},
   "source": [
    "As we can see, using Vectorization, the speed has increased a lot. Vectorization uses parallelization and go the jobs on different threads simultaneously. Using For loops is not optimized and because of that time consumed for part 7 are much bigger than part 6. "
   ]
  },
  {
   "cell_type": "code",
   "execution_count": 187,
   "metadata": {},
   "outputs": [
    {
     "name": "stdout",
     "output_type": "stream",
     "text": [
      "64.40253296775036\n"
     ]
    }
   ],
   "source": [
    "speed_up = total_loop / total_vectorization\n",
    "print(speed_up)"
   ]
  },
  {
   "cell_type": "markdown",
   "metadata": {},
   "source": [
    "## Part 8"
   ]
  },
  {
   "cell_type": "markdown",
   "metadata": {},
   "source": [
    "A histogram is a representation of the distribution of data. hist function default bins number is 10. But you can pass this parameter to function. This parameter means number of histogram bins to be used. If an integer is given, bins + 1 bin edges are calculated and returned. hist function calculate number of data in each bin and draw bin height by counted number."
   ]
  },
  {
   "cell_type": "code",
   "execution_count": 74,
   "metadata": {},
   "outputs": [
    {
     "data": {
      "text/plain": [
       "Text(0.5, 0, 'Daily Time Spent on Site')"
      ]
     },
     "execution_count": 74,
     "metadata": {},
     "output_type": "execute_result"
    },
    {
     "data": {
      "image/png": "[encoded data removed]",
      "text/plain": [
       "<Figure size 432x288 with 1 Axes>"
      ]
     },
     "metadata": {
      "needs_background": "light"
     },
     "output_type": "display_data"
    }
   ],
   "source": [
    "hist = input_data['Daily Time Spent on Site'].plot.hist()\n",
    "hist.set_xlabel('Daily Time Spent on Site')"
   ]
  },
  {
   "cell_type": "code",
   "execution_count": 75,
   "metadata": {},
   "outputs": [
    {
     "data": {
      "text/plain": [
       "Text(0.5, 0, 'Age')"
      ]
     },
     "execution_count": 75,
     "metadata": {},
     "output_type": "execute_result"
    },
    {
     "data": {
      "image/png": "[encoded data removed]",
      "text/plain": [
       "<Figure size 432x288 with 1 Axes>"
      ]
     },
     "metadata": {
      "needs_background": "light"
     },
     "output_type": "display_data"
    }
   ],
   "source": [
    "hist = input_data['Age'].plot.hist()\n",
    "hist.set_xlabel('Age')"
   ]
  },
  {
   "cell_type": "code",
   "execution_count": 76,
   "metadata": {},
   "outputs": [
    {
     "data": {
      "text/plain": [
       "Text(0.5, 0, 'Area Income')"
      ]
     },
     "execution_count": 76,
     "metadata": {},
     "output_type": "execute_result"
    },
    {
     "data": {
      "image/png": "[encoded data removed]",
      "text/plain": [
       "<Figure size 432x288 with 1 Axes>"
      ]
     },
     "metadata": {
      "needs_background": "light"
     },
     "output_type": "display_data"
    }
   ],
   "source": [
    "hist = input_data['Area Income'].plot.hist()\n",
    "hist.set_xlabel('Area Income')"
   ]
  },
  {
   "cell_type": "code",
   "execution_count": 77,
   "metadata": {},
   "outputs": [
    {
     "data": {
      "text/plain": [
       "Text(0.5, 0, 'Daily Internet Usage')"
      ]
     },
     "execution_count": 77,
     "metadata": {},
     "output_type": "execute_result"
    },
    {
     "data": {
      "image/png": "[encoded data removed]",
      "text/plain": [
       "<Figure size 432x288 with 1 Axes>"
      ]
     },
     "metadata": {
      "needs_background": "light"
     },
     "output_type": "display_data"
    }
   ],
   "source": [
    "hist = input_data['Daily Internet Usage'].plot.hist()\n",
    "hist.set_xlabel('Daily Internet Usage')"
   ]
  },
  {
   "cell_type": "markdown",
   "metadata": {},
   "source": [
    "## Part 9"
   ]
  },
  {
   "cell_type": "markdown",
   "metadata": {},
   "source": [
    "From this point on, we leave out the numeric columns."
   ]
  },
  {
   "cell_type": "code",
   "execution_count": 189,
   "metadata": {},
   "outputs": [
    {
     "data": {
      "text/html": [
       "<div>\n",
       "<style scoped>\n",
       "    .dataframe tbody tr th:only-of-type {\n",
       "        vertical-align: middle;\n",
       "    }\n",
       "\n",
       "    .dataframe tbody tr th {\n",
       "        vertical-align: top;\n",
       "    }\n",
       "\n",
       "    .dataframe thead th {\n",
       "        text-align: right;\n",
       "    }\n",
       "</style>\n",
       "<table border=\"1\" class=\"dataframe\">\n",
       "  <thead>\n",
       "    <tr style=\"text-align: right;\">\n",
       "      <th></th>\n",
       "      <th>Unnamed: 0</th>\n",
       "      <th>Daily Time Spent on Site</th>\n",
       "      <th>Age</th>\n",
       "      <th>Area Income</th>\n",
       "      <th>Daily Internet Usage</th>\n",
       "      <th>Clicked on Ad</th>\n",
       "    </tr>\n",
       "  </thead>\n",
       "  <tbody>\n",
       "    <tr>\n",
       "      <th>0</th>\n",
       "      <td>0</td>\n",
       "      <td>0.273474</td>\n",
       "      <td>-0.116122</td>\n",
       "      <td>0.509436</td>\n",
       "      <td>1.817578</td>\n",
       "      <td>0.0</td>\n",
       "    </tr>\n",
       "    <tr>\n",
       "      <th>1</th>\n",
       "      <td>1</td>\n",
       "      <td>1.015870</td>\n",
       "      <td>-0.576377</td>\n",
       "      <td>1.002029</td>\n",
       "      <td>0.000000</td>\n",
       "      <td>0.0</td>\n",
       "    </tr>\n",
       "    <tr>\n",
       "      <th>2</th>\n",
       "      <td>2</td>\n",
       "      <td>0.307698</td>\n",
       "      <td>-1.151696</td>\n",
       "      <td>0.356770</td>\n",
       "      <td>1.351152</td>\n",
       "      <td>0.0</td>\n",
       "    </tr>\n",
       "    <tr>\n",
       "      <th>3</th>\n",
       "      <td>3</td>\n",
       "      <td>0.615713</td>\n",
       "      <td>-0.806505</td>\n",
       "      <td>-0.014448</td>\n",
       "      <td>1.574722</td>\n",
       "      <td>0.0</td>\n",
       "    </tr>\n",
       "    <tr>\n",
       "      <th>4</th>\n",
       "      <td>4</td>\n",
       "      <td>0.235301</td>\n",
       "      <td>-0.116122</td>\n",
       "      <td>1.408163</td>\n",
       "      <td>1.091154</td>\n",
       "      <td>0.0</td>\n",
       "    </tr>\n",
       "    <tr>\n",
       "      <th>...</th>\n",
       "      <td>...</td>\n",
       "      <td>...</td>\n",
       "      <td>...</td>\n",
       "      <td>...</td>\n",
       "      <td>...</td>\n",
       "      <td>...</td>\n",
       "    </tr>\n",
       "    <tr>\n",
       "      <th>995</th>\n",
       "      <td>995</td>\n",
       "      <td>0.538051</td>\n",
       "      <td>-0.691441</td>\n",
       "      <td>1.221395</td>\n",
       "      <td>0.686394</td>\n",
       "      <td>1.0</td>\n",
       "    </tr>\n",
       "    <tr>\n",
       "      <th>996</th>\n",
       "      <td>996</td>\n",
       "      <td>-0.888164</td>\n",
       "      <td>1.034517</td>\n",
       "      <td>0.952853</td>\n",
       "      <td>-1.079309</td>\n",
       "      <td>1.0</td>\n",
       "    </tr>\n",
       "    <tr>\n",
       "      <th>997</th>\n",
       "      <td>997</td>\n",
       "      <td>-0.866445</td>\n",
       "      <td>1.724900</td>\n",
       "      <td>-0.938101</td>\n",
       "      <td>-1.413831</td>\n",
       "      <td>1.0</td>\n",
       "    </tr>\n",
       "    <tr>\n",
       "      <th>998</th>\n",
       "      <td>998</td>\n",
       "      <td>-0.608450</td>\n",
       "      <td>-1.957144</td>\n",
       "      <td>-0.974996</td>\n",
       "      <td>0.195207</td>\n",
       "      <td>0.0</td>\n",
       "    </tr>\n",
       "    <tr>\n",
       "      <th>999</th>\n",
       "      <td>999</td>\n",
       "      <td>0.000000</td>\n",
       "      <td>-1.151696</td>\n",
       "      <td>-1.872895</td>\n",
       "      <td>-0.033363</td>\n",
       "      <td>1.0</td>\n",
       "    </tr>\n",
       "  </tbody>\n",
       "</table>\n",
       "<p>1000 rows × 6 columns</p>\n",
       "</div>"
      ],
      "text/plain": [
       "     Unnamed: 0  Daily Time Spent on Site       Age  Area Income  \\\n",
       "0             0                  0.273474 -0.116122     0.509436   \n",
       "1             1                  1.015870 -0.576377     1.002029   \n",
       "2             2                  0.307698 -1.151696     0.356770   \n",
       "3             3                  0.615713 -0.806505    -0.014448   \n",
       "4             4                  0.235301 -0.116122     1.408163   \n",
       "..          ...                       ...       ...          ...   \n",
       "995         995                  0.538051 -0.691441     1.221395   \n",
       "996         996                 -0.888164  1.034517     0.952853   \n",
       "997         997                 -0.866445  1.724900    -0.938101   \n",
       "998         998                 -0.608450 -1.957144    -0.974996   \n",
       "999         999                  0.000000 -1.151696    -1.872895   \n",
       "\n",
       "     Daily Internet Usage  Clicked on Ad  \n",
       "0                1.817578            0.0  \n",
       "1                0.000000            0.0  \n",
       "2                1.351152            0.0  \n",
       "3                1.574722            0.0  \n",
       "4                1.091154            0.0  \n",
       "..                    ...            ...  \n",
       "995              0.686394            1.0  \n",
       "996             -1.079309            1.0  \n",
       "997             -1.413831            1.0  \n",
       "998              0.195207            0.0  \n",
       "999             -0.033363            1.0  \n",
       "\n",
       "[1000 rows x 6 columns]"
      ]
     },
     "execution_count": 189,
     "metadata": {},
     "output_type": "execute_result"
    }
   ],
   "source": [
    "input_data = input_data.drop(columns=['Ad Topic Line', 'City', 'Gender', 'Country', 'Timestamp'])\n",
    "input_data"
   ]
  },
  {
   "cell_type": "markdown",
   "metadata": {},
   "source": [
    "Standardization transforms data to have a mean of zero and a standard deviation of 1. This standardization is called a z-score, and data points can be standardized with the following formula:\n",
    "$$z_i = {{x_i - \\bar x} \\over s}$$"
   ]
  },
  {
   "cell_type": "code",
   "execution_count": 190,
   "metadata": {},
   "outputs": [
    {
     "data": {
      "text/html": [
       "<div>\n",
       "<style scoped>\n",
       "    .dataframe tbody tr th:only-of-type {\n",
       "        vertical-align: middle;\n",
       "    }\n",
       "\n",
       "    .dataframe tbody tr th {\n",
       "        vertical-align: top;\n",
       "    }\n",
       "\n",
       "    .dataframe thead th {\n",
       "        text-align: right;\n",
       "    }\n",
       "</style>\n",
       "<table border=\"1\" class=\"dataframe\">\n",
       "  <thead>\n",
       "    <tr style=\"text-align: right;\">\n",
       "      <th></th>\n",
       "      <th>Unnamed: 0</th>\n",
       "      <th>Daily Time Spent on Site</th>\n",
       "      <th>Age</th>\n",
       "      <th>Area Income</th>\n",
       "      <th>Daily Internet Usage</th>\n",
       "      <th>Clicked on Ad</th>\n",
       "    </tr>\n",
       "  </thead>\n",
       "  <tbody>\n",
       "    <tr>\n",
       "      <th>0</th>\n",
       "      <td>0</td>\n",
       "      <td>2.734741e-01</td>\n",
       "      <td>-0.116122</td>\n",
       "      <td>0.509436</td>\n",
       "      <td>1.817578e+00</td>\n",
       "      <td>0.0</td>\n",
       "    </tr>\n",
       "    <tr>\n",
       "      <th>1</th>\n",
       "      <td>1</td>\n",
       "      <td>1.015870e+00</td>\n",
       "      <td>-0.576377</td>\n",
       "      <td>1.002029</td>\n",
       "      <td>1.740830e-16</td>\n",
       "      <td>0.0</td>\n",
       "    </tr>\n",
       "    <tr>\n",
       "      <th>2</th>\n",
       "      <td>2</td>\n",
       "      <td>3.076980e-01</td>\n",
       "      <td>-1.151696</td>\n",
       "      <td>0.356770</td>\n",
       "      <td>1.351152e+00</td>\n",
       "      <td>0.0</td>\n",
       "    </tr>\n",
       "    <tr>\n",
       "      <th>3</th>\n",
       "      <td>3</td>\n",
       "      <td>6.157131e-01</td>\n",
       "      <td>-0.806505</td>\n",
       "      <td>-0.014448</td>\n",
       "      <td>1.574722e+00</td>\n",
       "      <td>0.0</td>\n",
       "    </tr>\n",
       "    <tr>\n",
       "      <th>4</th>\n",
       "      <td>4</td>\n",
       "      <td>2.353013e-01</td>\n",
       "      <td>-0.116122</td>\n",
       "      <td>1.408163</td>\n",
       "      <td>1.091154e+00</td>\n",
       "      <td>0.0</td>\n",
       "    </tr>\n",
       "    <tr>\n",
       "      <th>...</th>\n",
       "      <td>...</td>\n",
       "      <td>...</td>\n",
       "      <td>...</td>\n",
       "      <td>...</td>\n",
       "      <td>...</td>\n",
       "      <td>...</td>\n",
       "    </tr>\n",
       "    <tr>\n",
       "      <th>995</th>\n",
       "      <td>995</td>\n",
       "      <td>5.380512e-01</td>\n",
       "      <td>-0.691441</td>\n",
       "      <td>1.221395</td>\n",
       "      <td>6.863941e-01</td>\n",
       "      <td>1.0</td>\n",
       "    </tr>\n",
       "    <tr>\n",
       "      <th>996</th>\n",
       "      <td>996</td>\n",
       "      <td>-8.881641e-01</td>\n",
       "      <td>1.034517</td>\n",
       "      <td>0.952853</td>\n",
       "      <td>-1.079309e+00</td>\n",
       "      <td>1.0</td>\n",
       "    </tr>\n",
       "    <tr>\n",
       "      <th>997</th>\n",
       "      <td>997</td>\n",
       "      <td>-8.664451e-01</td>\n",
       "      <td>1.724900</td>\n",
       "      <td>-0.938101</td>\n",
       "      <td>-1.413831e+00</td>\n",
       "      <td>1.0</td>\n",
       "    </tr>\n",
       "    <tr>\n",
       "      <th>998</th>\n",
       "      <td>998</td>\n",
       "      <td>-6.084495e-01</td>\n",
       "      <td>-1.957144</td>\n",
       "      <td>-0.974996</td>\n",
       "      <td>1.952066e-01</td>\n",
       "      <td>0.0</td>\n",
       "    </tr>\n",
       "    <tr>\n",
       "      <th>999</th>\n",
       "      <td>999</td>\n",
       "      <td>-1.101341e-16</td>\n",
       "      <td>-1.151696</td>\n",
       "      <td>-1.872895</td>\n",
       "      <td>-3.336338e-02</td>\n",
       "      <td>1.0</td>\n",
       "    </tr>\n",
       "  </tbody>\n",
       "</table>\n",
       "<p>1000 rows × 6 columns</p>\n",
       "</div>"
      ],
      "text/plain": [
       "     Unnamed: 0  Daily Time Spent on Site       Age  Area Income  \\\n",
       "0             0              2.734741e-01 -0.116122     0.509436   \n",
       "1             1              1.015870e+00 -0.576377     1.002029   \n",
       "2             2              3.076980e-01 -1.151696     0.356770   \n",
       "3             3              6.157131e-01 -0.806505    -0.014448   \n",
       "4             4              2.353013e-01 -0.116122     1.408163   \n",
       "..          ...                       ...       ...          ...   \n",
       "995         995              5.380512e-01 -0.691441     1.221395   \n",
       "996         996             -8.881641e-01  1.034517     0.952853   \n",
       "997         997             -8.664451e-01  1.724900    -0.938101   \n",
       "998         998             -6.084495e-01 -1.957144    -0.974996   \n",
       "999         999             -1.101341e-16 -1.151696    -1.872895   \n",
       "\n",
       "     Daily Internet Usage  Clicked on Ad  \n",
       "0            1.817578e+00            0.0  \n",
       "1            1.740830e-16            0.0  \n",
       "2            1.351152e+00            0.0  \n",
       "3            1.574722e+00            0.0  \n",
       "4            1.091154e+00            0.0  \n",
       "..                    ...            ...  \n",
       "995          6.863941e-01            1.0  \n",
       "996         -1.079309e+00            1.0  \n",
       "997         -1.413831e+00            1.0  \n",
       "998          1.952066e-01            0.0  \n",
       "999         -3.336338e-02            1.0  \n",
       "\n",
       "[1000 rows x 6 columns]"
      ]
     },
     "execution_count": 190,
     "metadata": {},
     "output_type": "execute_result"
    }
   ],
   "source": [
    "def normalize_column_data(column_name):\n",
    "    normalized_data[column_name] = (normalized_data[column_name] - normalized_data[column_name].mean()) / normalized_data[column_name].std()\n",
    "\n",
    "normalized_data = input_data\n",
    "normalize_column_data('Daily Time Spent on Site')\n",
    "normalize_column_data('Age')\n",
    "normalize_column_data('Area Income')\n",
    "normalize_column_data('Daily Internet Usage')\n",
    "\n",
    "normalized_data"
   ]
  },
  {
   "cell_type": "code",
   "execution_count": 191,
   "metadata": {},
   "outputs": [
    {
     "data": {
      "text/plain": [
       "Text(0.5, 0, 'Daily Time Spent on Sit')"
      ]
     },
     "execution_count": 191,
     "metadata": {},
     "output_type": "execute_result"
    },
    {
     "data": {
      "image/png": "[encoded data removed]",
      "text/plain": [
       "<Figure size 432x288 with 1 Axes>"
      ]
     },
     "metadata": {
      "needs_background": "light"
     },
     "output_type": "display_data"
    }
   ],
   "source": [
    "hist = normalized_data['Daily Time Spent on Site'].plot.hist()\n",
    "hist.set_xlabel('Daily Time Spent on Sit')"
   ]
  },
  {
   "cell_type": "code",
   "execution_count": 81,
   "metadata": {},
   "outputs": [
    {
     "data": {
      "text/plain": [
       "Text(0.5, 0, 'Age')"
      ]
     },
     "execution_count": 81,
     "metadata": {},
     "output_type": "execute_result"
    },
    {
     "data": {
      "image/png": "[encoded data removed]",
      "text/plain": [
       "<Figure size 432x288 with 1 Axes>"
      ]
     },
     "metadata": {
      "needs_background": "light"
     },
     "output_type": "display_data"
    }
   ],
   "source": [
    "hist = normalized_data['Age'].plot.hist()\n",
    "hist.set_xlabel('Age')"
   ]
  },
  {
   "cell_type": "code",
   "execution_count": 84,
   "metadata": {},
   "outputs": [
    {
     "data": {
      "text/plain": [
       "Text(0.5, 0, 'Area Income')"
      ]
     },
     "execution_count": 84,
     "metadata": {},
     "output_type": "execute_result"
    },
    {
     "data": {
      "image/png": "[encoded data removed]",
      "text/plain": [
       "<Figure size 432x288 with 1 Axes>"
      ]
     },
     "metadata": {
      "needs_background": "light"
     },
     "output_type": "display_data"
    }
   ],
   "source": [
    "hist = normalized_data['Area Income'].plot.hist()\n",
    "hist.set_xlabel('Area Income')"
   ]
  },
  {
   "cell_type": "code",
   "execution_count": 192,
   "metadata": {},
   "outputs": [
    {
     "data": {
      "text/plain": [
       "Text(0.5, 0, 'Daily Internet Usage')"
      ]
     },
     "execution_count": 192,
     "metadata": {},
     "output_type": "execute_result"
    },
    {
     "data": {
      "image/png": "[encoded data removed]",
      "text/plain": [
       "<Figure size 432x288 with 1 Axes>"
      ]
     },
     "metadata": {
      "needs_background": "light"
     },
     "output_type": "display_data"
    }
   ],
   "source": [
    "hist = normalized_data['Daily Internet Usage'].plot.hist()\n",
    "hist.set_xlabel('Daily Internet Usage')"
   ]
  },
  {
   "cell_type": "markdown",
   "metadata": {},
   "source": [
    "## Part 10"
   ]
  },
  {
   "cell_type": "code",
   "execution_count": 109,
   "metadata": {},
   "outputs": [
    {
     "data": {
      "text/html": [
       "<div>\n",
       "<style scoped>\n",
       "    .dataframe tbody tr th:only-of-type {\n",
       "        vertical-align: middle;\n",
       "    }\n",
       "\n",
       "    .dataframe tbody tr th {\n",
       "        vertical-align: top;\n",
       "    }\n",
       "\n",
       "    .dataframe thead th {\n",
       "        text-align: right;\n",
       "    }\n",
       "</style>\n",
       "<table border=\"1\" class=\"dataframe\">\n",
       "  <thead>\n",
       "    <tr style=\"text-align: right;\">\n",
       "      <th></th>\n",
       "      <th>Unnamed: 0</th>\n",
       "      <th>Daily Time Spent on Site</th>\n",
       "      <th>Age</th>\n",
       "      <th>Area Income</th>\n",
       "      <th>Daily Internet Usage</th>\n",
       "    </tr>\n",
       "    <tr>\n",
       "      <th>Clicked on Ad</th>\n",
       "      <th></th>\n",
       "      <th></th>\n",
       "      <th></th>\n",
       "      <th></th>\n",
       "      <th></th>\n",
       "    </tr>\n",
       "  </thead>\n",
       "  <tbody>\n",
       "    <tr>\n",
       "      <th>0.0</th>\n",
       "      <td>489.472554</td>\n",
       "      <td>0.714104</td>\n",
       "      <td>-0.493148</td>\n",
       "      <td>0.476367</td>\n",
       "      <td>0.764216</td>\n",
       "    </tr>\n",
       "    <tr>\n",
       "      <th>1.0</th>\n",
       "      <td>504.515738</td>\n",
       "      <td>-0.691783</td>\n",
       "      <td>0.493211</td>\n",
       "      <td>-0.498632</td>\n",
       "      <td>-0.753395</td>\n",
       "    </tr>\n",
       "  </tbody>\n",
       "</table>\n",
       "</div>"
      ],
      "text/plain": [
       "               Unnamed: 0  Daily Time Spent on Site       Age  Area Income  \\\n",
       "Clicked on Ad                                                                \n",
       "0.0            489.472554                  0.714104 -0.493148     0.476367   \n",
       "1.0            504.515738                 -0.691783  0.493211    -0.498632   \n",
       "\n",
       "               Daily Internet Usage  \n",
       "Clicked on Ad                        \n",
       "0.0                        0.764216  \n",
       "1.0                       -0.753395  "
      ]
     },
     "execution_count": 109,
     "metadata": {},
     "output_type": "execute_result"
    }
   ],
   "source": [
    "mean_data = normalized_data.groupby(['Clicked on Ad']).mean()\n",
    "mean_data"
   ]
  },
  {
   "cell_type": "code",
   "execution_count": 110,
   "metadata": {},
   "outputs": [
    {
     "data": {
      "text/html": [
       "<div>\n",
       "<style scoped>\n",
       "    .dataframe tbody tr th:only-of-type {\n",
       "        vertical-align: middle;\n",
       "    }\n",
       "\n",
       "    .dataframe tbody tr th {\n",
       "        vertical-align: top;\n",
       "    }\n",
       "\n",
       "    .dataframe thead th {\n",
       "        text-align: right;\n",
       "    }\n",
       "</style>\n",
       "<table border=\"1\" class=\"dataframe\">\n",
       "  <thead>\n",
       "    <tr style=\"text-align: right;\">\n",
       "      <th></th>\n",
       "      <th>Unnamed: 0</th>\n",
       "      <th>Daily Time Spent on Site</th>\n",
       "      <th>Age</th>\n",
       "      <th>Area Income</th>\n",
       "      <th>Daily Internet Usage</th>\n",
       "    </tr>\n",
       "    <tr>\n",
       "      <th>Clicked on Ad</th>\n",
       "      <th></th>\n",
       "      <th></th>\n",
       "      <th></th>\n",
       "      <th></th>\n",
       "      <th></th>\n",
       "    </tr>\n",
       "  </thead>\n",
       "  <tbody>\n",
       "    <tr>\n",
       "      <th>0.0</th>\n",
       "      <td>281.453594</td>\n",
       "      <td>0.531369</td>\n",
       "      <td>0.706315</td>\n",
       "      <td>0.670476</td>\n",
       "      <td>0.592058</td>\n",
       "    </tr>\n",
       "    <tr>\n",
       "      <th>1.0</th>\n",
       "      <td>298.942388</td>\n",
       "      <td>0.836161</td>\n",
       "      <td>1.019268</td>\n",
       "      <td>1.046199</td>\n",
       "      <td>0.723959</td>\n",
       "    </tr>\n",
       "  </tbody>\n",
       "</table>\n",
       "</div>"
      ],
      "text/plain": [
       "               Unnamed: 0  Daily Time Spent on Site       Age  Area Income  \\\n",
       "Clicked on Ad                                                                \n",
       "0.0            281.453594                  0.531369  0.706315     0.670476   \n",
       "1.0            298.942388                  0.836161  1.019268     1.046199   \n",
       "\n",
       "               Daily Internet Usage  \n",
       "Clicked on Ad                        \n",
       "0.0                        0.592058  \n",
       "1.0                        0.723959  "
      ]
     },
     "execution_count": 110,
     "metadata": {},
     "output_type": "execute_result"
    }
   ],
   "source": [
    "std_data = normalized_data.groupby(['Clicked on Ad']).std()\n",
    "std_data"
   ]
  },
  {
   "cell_type": "code",
   "execution_count": 214,
   "metadata": {},
   "outputs": [],
   "source": [
    "from scipy.stats import norm \n",
    "import matplotlib.pyplot as plt\n",
    "\n",
    "click_data = normalized_data[normalized_data['Clicked on Ad'] == 1]\n",
    "std_click_data = click_data.std()\n",
    "mean_click_data = click_data.mean()\n",
    "\n",
    "not_click_data = normalized_data[normalized_data['Clicked on Ad'] == 0]\n",
    "std_not_click_data = not_click_data.std()\n",
    "mean_not_click_data = not_click_data.mean()"
   ]
  },
  {
   "cell_type": "code",
   "execution_count": 229,
   "metadata": {},
   "outputs": [
    {
     "data": {
      "image/png": "[encoded data removed]",
      "text/plain": [
       "<Figure size 432x288 with 1 Axes>"
      ]
     },
     "metadata": {
      "needs_background": "light"
     },
     "output_type": "display_data"
    }
   ],
   "source": [
    "def plt_pdf(column_name, click_data, not_click_data):\n",
    "    click_data = click_data.sort_values(by = column_name)\n",
    "    not_click_data = not_click_data.sort_values(by = column_name)\n",
    "\n",
    "    plt.plot(click_data[column_name], norm.pdf(click_data[column_name], mean_click_data[column_name], std_click_data[column_name]), color='cyan', label=\"Clicked\")\n",
    "    plt.plot(not_click_data[column_name], norm.pdf(not_click_data[column_name], mean_not_click_data[column_name], std_not_click_data[column_name]), color='magenta', label=\"Not Clicked\")\n",
    "    \n",
    "    plt.ylabel('Normal Distribution')\n",
    "    plt.xlabel(column_name)\n",
    "    plt.legend()\n",
    "    plt.show()\n",
    "\n",
    "plt_pdf('Daily Time Spent on Site', click_data, not_click_data)"
   ]
  },
  {
   "cell_type": "code",
   "execution_count": 230,
   "metadata": {},
   "outputs": [
    {
     "data": {
      "image/png": "[encoded data removed]",
      "text/plain": [
       "<Figure size 432x288 with 1 Axes>"
      ]
     },
     "metadata": {
      "needs_background": "light"
     },
     "output_type": "display_data"
    }
   ],
   "source": [
    "plt_pdf('Age', click_data, not_click_data)"
   ]
  },
  {
   "cell_type": "code",
   "execution_count": 231,
   "metadata": {},
   "outputs": [
    {
     "data": {
      "image/png": "[encoded data removed]",
      "text/plain": [
       "<Figure size 432x288 with 1 Axes>"
      ]
     },
     "metadata": {
      "needs_background": "light"
     },
     "output_type": "display_data"
    }
   ],
   "source": [
    "plt_pdf('Area Income', click_data, not_click_data)"
   ]
  },
  {
   "cell_type": "code",
   "execution_count": 232,
   "metadata": {},
   "outputs": [
    {
     "data": {
      "image/png": "[encoded data removed]",
      "text/plain": [
       "<Figure size 432x288 with 1 Axes>"
      ]
     },
     "metadata": {
      "needs_background": "light"
     },
     "output_type": "display_data"
    }
   ],
   "source": [
    "plt_pdf('Daily Internet Usage', click_data, not_click_data)"
   ]
  },
  {
   "cell_type": "markdown",
   "metadata": {},
   "source": [
    "Daily Internet Usage is best variable for guessing clicked variable because clicked and not clicked data are separated from each other.  A point in each have a grater probability for belonging to specific category. \n",
    "As we can see from the graph, using this feature, it is more likely to detect whether the user has clicked or not."
   ]
  },
  {
   "cell_type": "markdown",
   "metadata": {},
   "source": [
    "## Part 11"
   ]
  },
  {
   "cell_type": "markdown",
   "metadata": {},
   "source": [
    "For predicting null data, we consider on standard deviation around mean of each group. If data belongs to interval of one group, it gets high chance to belong to that group. other values that are out of these ranges assign to not click by default."
   ]
  },
  {
   "cell_type": "code",
   "execution_count": 233,
   "metadata": {},
   "outputs": [
    {
     "data": {
      "text/html": [
       "<div>\n",
       "<style scoped>\n",
       "    .dataframe tbody tr th:only-of-type {\n",
       "        vertical-align: middle;\n",
       "    }\n",
       "\n",
       "    .dataframe tbody tr th {\n",
       "        vertical-align: top;\n",
       "    }\n",
       "\n",
       "    .dataframe thead th {\n",
       "        text-align: right;\n",
       "    }\n",
       "</style>\n",
       "<table border=\"1\" class=\"dataframe\">\n",
       "  <thead>\n",
       "    <tr style=\"text-align: right;\">\n",
       "      <th></th>\n",
       "      <th>Unnamed: 0</th>\n",
       "      <th>Daily Time Spent on Site</th>\n",
       "      <th>Age</th>\n",
       "      <th>Area Income</th>\n",
       "      <th>Daily Internet Usage</th>\n",
       "      <th>Clicked on Ad</th>\n",
       "    </tr>\n",
       "  </thead>\n",
       "  <tbody>\n",
       "    <tr>\n",
       "      <th>10</th>\n",
       "      <td>10</td>\n",
       "      <td>-1.129048</td>\n",
       "      <td>1.494773</td>\n",
       "      <td>-0.698304</td>\n",
       "      <td>-1.374546</td>\n",
       "      <td>1.0</td>\n",
       "    </tr>\n",
       "    <tr>\n",
       "      <th>14</th>\n",
       "      <td>14</td>\n",
       "      <td>-1.437721</td>\n",
       "      <td>-0.346249</td>\n",
       "      <td>-1.790880</td>\n",
       "      <td>-0.861692</td>\n",
       "      <td>1.0</td>\n",
       "    </tr>\n",
       "    <tr>\n",
       "      <th>15</th>\n",
       "      <td>15</td>\n",
       "      <td>-0.088509</td>\n",
       "      <td>-1.496888</td>\n",
       "      <td>-0.210052</td>\n",
       "      <td>-0.931215</td>\n",
       "      <td>1.0</td>\n",
       "    </tr>\n",
       "    <tr>\n",
       "      <th>20</th>\n",
       "      <td>20</td>\n",
       "      <td>0.817766</td>\n",
       "      <td>-0.691441</td>\n",
       "      <td>0.730719</td>\n",
       "      <td>1.064011</td>\n",
       "      <td>0.0</td>\n",
       "    </tr>\n",
       "    <tr>\n",
       "      <th>24</th>\n",
       "      <td>24</td>\n",
       "      <td>-1.540393</td>\n",
       "      <td>0.574262</td>\n",
       "      <td>1.040827</td>\n",
       "      <td>-0.298362</td>\n",
       "      <td>1.0</td>\n",
       "    </tr>\n",
       "    <tr>\n",
       "      <th>...</th>\n",
       "      <td>...</td>\n",
       "      <td>...</td>\n",
       "      <td>...</td>\n",
       "      <td>...</td>\n",
       "      <td>...</td>\n",
       "      <td>...</td>\n",
       "    </tr>\n",
       "    <tr>\n",
       "      <th>963</th>\n",
       "      <td>963</td>\n",
       "      <td>-0.266210</td>\n",
       "      <td>0.689325</td>\n",
       "      <td>1.101465</td>\n",
       "      <td>1.602341</td>\n",
       "      <td>0.0</td>\n",
       "    </tr>\n",
       "    <tr>\n",
       "      <th>966</th>\n",
       "      <td>966</td>\n",
       "      <td>-1.791149</td>\n",
       "      <td>1.839964</td>\n",
       "      <td>-0.253420</td>\n",
       "      <td>-0.072649</td>\n",
       "      <td>1.0</td>\n",
       "    </tr>\n",
       "    <tr>\n",
       "      <th>967</th>\n",
       "      <td>967</td>\n",
       "      <td>0.211608</td>\n",
       "      <td>-1.266760</td>\n",
       "      <td>0.995775</td>\n",
       "      <td>0.204016</td>\n",
       "      <td>0.0</td>\n",
       "    </tr>\n",
       "    <tr>\n",
       "      <th>977</th>\n",
       "      <td>977</td>\n",
       "      <td>-0.646622</td>\n",
       "      <td>-0.576377</td>\n",
       "      <td>-0.231089</td>\n",
       "      <td>-1.508831</td>\n",
       "      <td>0.0</td>\n",
       "    </tr>\n",
       "    <tr>\n",
       "      <th>992</th>\n",
       "      <td>992</td>\n",
       "      <td>0.287953</td>\n",
       "      <td>0.459198</td>\n",
       "      <td>0.834448</td>\n",
       "      <td>-1.336451</td>\n",
       "      <td>1.0</td>\n",
       "    </tr>\n",
       "  </tbody>\n",
       "</table>\n",
       "<p>168 rows × 6 columns</p>\n",
       "</div>"
      ],
      "text/plain": [
       "     Unnamed: 0  Daily Time Spent on Site       Age  Area Income  \\\n",
       "10           10                 -1.129048  1.494773    -0.698304   \n",
       "14           14                 -1.437721 -0.346249    -1.790880   \n",
       "15           15                 -0.088509 -1.496888    -0.210052   \n",
       "20           20                  0.817766 -0.691441     0.730719   \n",
       "24           24                 -1.540393  0.574262     1.040827   \n",
       "..          ...                       ...       ...          ...   \n",
       "963         963                 -0.266210  0.689325     1.101465   \n",
       "966         966                 -1.791149  1.839964    -0.253420   \n",
       "967         967                  0.211608 -1.266760     0.995775   \n",
       "977         977                 -0.646622 -0.576377    -0.231089   \n",
       "992         992                  0.287953  0.459198     0.834448   \n",
       "\n",
       "     Daily Internet Usage  Clicked on Ad  \n",
       "10              -1.374546            1.0  \n",
       "14              -0.861692            1.0  \n",
       "15              -0.931215            1.0  \n",
       "20               1.064011            0.0  \n",
       "24              -0.298362            1.0  \n",
       "..                    ...            ...  \n",
       "963              1.602341            0.0  \n",
       "966             -0.072649            1.0  \n",
       "967              0.204016            0.0  \n",
       "977             -1.508831            0.0  \n",
       "992             -1.336451            1.0  \n",
       "\n",
       "[168 rows x 6 columns]"
      ]
     },
     "execution_count": 233,
     "metadata": {},
     "output_type": "execute_result"
    }
   ],
   "source": [
    "click_range = [mean_click_data['Daily Internet Usage'] - std_click_data['Daily Internet Usage'], \n",
    "               mean_click_data['Daily Internet Usage'] + std_click_data['Daily Internet Usage']]\n",
    "\n",
    "not_click_range = [mean_not_click_data['Daily Internet Usage'] - std_not_click_data['Daily Internet Usage'], \n",
    "               mean_not_click_data['Daily Internet Usage'] + std_not_click_data['Daily Internet Usage']]\n",
    "\n",
    "\n",
    "final_data = normalized_data[normalized_data['Clicked on Ad'].isnull()].copy()\n",
    "final_data.loc[(final_data['Daily Internet Usage'] > click_range[0]) & \n",
    "           (final_data['Daily Internet Usage'] < click_range[1]),'Clicked on Ad'] = 1\n",
    "final_data.loc[(final_data['Daily Internet Usage'] > not_click_range[0]) & \n",
    "           (final_data['Daily Internet Usage'] < not_click_range[1]),'Clicked on Ad'] = 0\n",
    "final_data['Clicked on Ad'].fillna(0, inplace=True)\n",
    "\n",
    "final_data"
   ]
  },
  {
   "cell_type": "code",
   "execution_count": 234,
   "metadata": {},
   "outputs": [],
   "source": [
    "final_data['Clicked on Ad'].to_csv('out.csv')"
   ]
  },
  {
   "cell_type": "code",
   "execution_count": null,
   "metadata": {},
   "outputs": [],
   "source": []
  }
 ],
 "metadata": {
  "kernelspec": {
   "display_name": "Python 3",
   "language": "python",
   "name": "python3"
  },
  "language_info": {
   "codemirror_mode": {
    "name": "ipython",
    "version": 3
   },
   "file_extension": ".py",
   "mimetype": "text/x-python",
   "name": "python",
   "nbconvert_exporter": "python",
   "pygments_lexer": "ipython3",
   "version": "3.8.5"
  }
 },
 "nbformat": 4,
 "nbformat_minor": 4
}
